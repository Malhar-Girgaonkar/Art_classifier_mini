{
  "nbformat": 4,
  "nbformat_minor": 0,
  "metadata": {
    "colab": {
      "provenance": [],
      "gpuType": "T4",
      "authorship_tag": "ABX9TyPUUpKb49hPvSSnZRp4lT9V",
      "include_colab_link": true
    },
    "kernelspec": {
      "name": "python3",
      "display_name": "Python 3"
    },
    "language_info": {
      "name": "python"
    },
    "accelerator": "GPU"
  },
  "cells": [
    {
      "cell_type": "markdown",
      "metadata": {
        "id": "view-in-github",
        "colab_type": "text"
      },
      "source": [
        "<a href=\"https://colab.research.google.com/github/Malhar-Girgaonkar/Art_classifier_mini/blob/main/Art_classifier_mini.ipynb\" target=\"_parent\"><img src=\"https://colab.research.google.com/assets/colab-badge.svg\" alt=\"Open In Colab\"/></a>"
      ]
    },
    {
      "cell_type": "code",
      "execution_count": 3,
      "metadata": {
        "id": "Y9DYgzo3eTxr"
      },
      "outputs": [],
      "source": [
        "#Import modules\n",
        "\n",
        "import shutil\n",
        "import os\n",
        "import zipfile\n",
        "import random\n",
        "import shutil\n",
        "import warnings"
      ]
    },
    {
      "cell_type": "code",
      "source": [
        "#mounting google drive\n",
        "\n",
        "from google.colab import drive\n",
        "drive.mount('/content/drive')"
      ],
      "metadata": {
        "colab": {
          "base_uri": "https://localhost:8080/"
        },
        "id": "IxsV6ruHelbH",
        "outputId": "c34ac73a-3a35-4228-f175-e31d97709c4a"
      },
      "execution_count": 1,
      "outputs": [
        {
          "output_type": "stream",
          "name": "stdout",
          "text": [
            "Mounted at /content/drive\n"
          ]
        }
      ]
    },
    {
      "cell_type": "code",
      "source": [
        "# Make new base directory\n",
        "original_dataset_dir = '/content/drive/MyDrive/dataset/OG_dataset'\n",
        "base_dir = '/content/drive/MyDrive/dataset/dataset_updated'\n",
        "os.mkdir(base_dir)"
      ],
      "metadata": {
        "id": "jG2i7OVRsAsj"
      },
      "execution_count": null,
      "outputs": []
    },
    {
      "cell_type": "code",
      "source": [
        "#create two folders (train and validation)\n",
        "train_dir = os.path.join(base_dir, 'training_set')\n",
        "os.mkdir(train_dir)\n",
        "\n",
        "validation_dir = os.path.join(base_dir, 'validation_set')\n",
        "os.mkdir(validation_dir)\n",
        "\n",
        "#Under train folder create 5 folders\n",
        "# ['drawings', 'engraving', 'iconography', 'painting', 'sculpture']\n",
        "\n",
        "train_drawings_dir = os.path.join(train_dir, 'drawings')\n",
        "os.mkdir(train_drawings_dir)\n",
        "\n",
        "train_engraving_dir = os.path.join(train_dir, 'engraving')\n",
        "os.mkdir(train_engraving_dir)\n",
        "\n",
        "train_iconography_dir = os.path.join(train_dir, 'iconography')\n",
        "os.mkdir(train_iconography_dir)\n",
        "\n",
        "train_painting_dir = os.path.join(train_dir, 'painting')\n",
        "os.mkdir(train_painting_dir)\n",
        "\n",
        "train_sculpture_dir = os.path.join(train_dir, 'sculpture')\n",
        "os.mkdir(train_sculpture_dir)\n",
        "\n",
        "\n",
        "#Under validation folder create 5 folders\n",
        "# ['drawings', 'engraving', 'iconography', 'painting', 'sculpture']\n",
        "\n",
        "validation_drawings_dir = os.path.join(validation_dir, 'drawings')\n",
        "os.mkdir(validation_drawings_dir)\n",
        "\n",
        "validation_engraving_dir = os.path.join(validation_dir, 'engraving')\n",
        "os.mkdir(validation_engraving_dir)\n",
        "\n",
        "validation_iconography_dir = os.path.join(validation_dir, 'iconography')\n",
        "os.mkdir(validation_iconography_dir)\n",
        "\n",
        "validation_painting_dir = os.path.join(validation_dir, 'painting')\n",
        "os.mkdir(validation_painting_dir)\n",
        "\n",
        "validation_sculpture_dir = os.path.join(validation_dir, 'sculpture')\n",
        "os.mkdir(validation_sculpture_dir)\n",
        "\n",
        "\n"
      ],
      "metadata": {
        "id": "wZ-unabYr-fR"
      },
      "execution_count": null,
      "outputs": []
    },
    {
      "cell_type": "code",
      "source": [
        "#Spliting dataset into training testing validation\n",
        "\n",
        "def split_data(SOURCE, TRAINING, VALIDATION, SPLIT_SIZE):\n",
        "    files = []\n",
        "    for filename in os.listdir(SOURCE):\n",
        "        file = SOURCE + filename\n",
        "        if os.path.getsize(file) > 0:\n",
        "            files.append(filename)\n",
        "        else:\n",
        "            print(filename + \" is zero length, so ignoring.\")\n",
        "\n",
        "    training_length = int(len(files) * SPLIT_SIZE)\n",
        "    valid_length = int(len(files) - training_length)\n",
        "    shuffled_set = random.sample(files, len(files))\n",
        "    training_set = shuffled_set[0:training_length]\n",
        "    valid_set = shuffled_set[training_length:]\n",
        "\n",
        "    for filename in training_set:\n",
        "        this_file = SOURCE + filename\n",
        "        destination = TRAINING + filename\n",
        "        shutil.copyfile(this_file, destination)\n",
        "\n",
        "    for filename in valid_set:\n",
        "        this_file = SOURCE + filename\n",
        "        destination = VALIDATION + filename\n",
        "        shutil.copyfile(this_file, destination)"
      ],
      "metadata": {
        "id": "gt9X5w_Cr2A3"
      },
      "execution_count": null,
      "outputs": []
    },
    {
      "cell_type": "code",
      "source": [
        "#List directories to be used in spliting\n",
        "\n",
        "drawings_SOURCE_DIR = '/content/drive/MyDrive/dataset/OG_dataset/drawings/'\n",
        "TRAINING_drawings_DIR = '/content/drive/MyDrive/dataset/dataset_updated/training_set/drawings/'\n",
        "VALID_drawings_DIR = '/content/drive/MyDrive/dataset/dataset_updated/validation_set/drawings/'\n",
        "\n",
        "engraving_SOURCE_DIR = '/content/drive/MyDrive/dataset/OG_dataset/engraving/'\n",
        "TRAINING_engraving_DIR = '/content/drive/MyDrive/dataset/dataset_updated/training_set/engraving/'\n",
        "VALID_engraving_DIR = '/content/drive/MyDrive/dataset/dataset_updated/validation_set/engraving/'\n",
        "\n",
        "iconography_SOURCE_DIR = '/content/drive/MyDrive/dataset/OG_dataset/iconography/'\n",
        "TRAINING_iconography_DIR = '/content/drive/MyDrive/dataset/dataset_updated/training_set/iconography/'\n",
        "VALID_iconography_DIR = '/content/drive/MyDrive/dataset/dataset_updated/validation_set/iconography/'\n",
        "\n",
        "painting_SOURCE_DIR = '/content/drive/MyDrive/dataset/OG_dataset/painting/'\n",
        "TRAINING_painting_DIR = '/content/drive/MyDrive/dataset/dataset_updated/training_set/painting/'\n",
        "VALID_painting_DIR = '/content/drive/MyDrive/dataset/dataset_updated/validation_set/painting/'\n",
        "\n",
        "sculpture_SOURCE_DIR = '/content/drive/MyDrive/dataset/OG_dataset/sculpture/'\n",
        "TRAINING_sculpture_DIR = '/content/drive/MyDrive/dataset/dataset_updated/training_set/sculpture/'\n",
        "VALID_sculpture_DIR = '/content/drive/MyDrive/dataset/dataset_updated/validation_set/sculpture/'\n",
        "\n",
        "\n"
      ],
      "metadata": {
        "id": "FR3BWuL-ewPI"
      },
      "execution_count": null,
      "outputs": []
    },
    {
      "cell_type": "code",
      "source": [
        "#Seting split of 80,20 for training,validation of size 21.6gb,5.4gb approx\n",
        "#it took me 48m 1s to run this script\n",
        "\n",
        "split_size = 0.85\n",
        "\n",
        "split_data(drawings_SOURCE_DIR, TRAINING_drawings_DIR, VALID_drawings_DIR , split_size)\n",
        "\n",
        "split_data(engraving_SOURCE_DIR, TRAINING_engraving_DIR, VALID_engraving_DIR , split_size)\n",
        "\n",
        "split_data(iconography_SOURCE_DIR, TRAINING_iconography_DIR, VALID_iconography_DIR , split_size)\n",
        "\n",
        "split_data(painting_SOURCE_DIR, TRAINING_painting_DIR, VALID_painting_DIR , split_size)\n",
        "\n",
        "split_data(sculpture_SOURCE_DIR, TRAINING_sculpture_DIR, VALID_sculpture_DIR , split_size)\n",
        "\n"
      ],
      "metadata": {
        "id": "hIR9nVVQexpe"
      },
      "execution_count": null,
      "outputs": []
    },
    {
      "cell_type": "code",
      "source": [
        "#Looking at data in training part\n",
        "import matplotlib.pyplot as plt\n",
        "import seaborn as sns\n",
        "from matplotlib.image import imread\n",
        "import pathlib\n",
        "\n",
        "image_folder = ['drawings', 'engraving', 'iconography', 'painting', 'sculpture']\n",
        "\n",
        "nimgs = {}\n",
        "for i in image_folder:\n",
        "    nimages = len(os.listdir('/content/drive/MyDrive/dataset/dataset_updated/training_set/'+i+'/'))\n",
        "    nimgs[i]=nimages\n",
        "plt.figure(figsize=(18, 6))\n",
        "plt.bar(range(len(nimgs)), list(nimgs.values()), align='center')\n",
        "plt.xticks(range(len(nimgs)), list(nimgs.keys()))\n",
        "plt.title('Distribution of different classes in Training Dataset')\n",
        "plt.show()\n",
        "print(\"\\n\\n\")\n",
        "#print no of images in each category\n",
        "for i in image_folder:\n",
        "    print('Training {} images are: '.format(i)+str(len(os.listdir('/content/drive/MyDrive/dataset/dataset_updated/training_set/'+i+'/'))))"
      ],
      "metadata": {
        "colab": {
          "base_uri": "https://localhost:8080/",
          "height": 466
        },
        "id": "10B5C0SWe2dF",
        "outputId": "180d8be1-012e-4a12-fce9-a56485a561a5"
      },
      "execution_count": 4,
      "outputs": [
        {
          "output_type": "display_data",
          "data": {
            "text/plain": [
              "<Figure size 1800x600 with 1 Axes>"
            ],
            "image/png": "[encoded data removed]"
          },
          "metadata": {}
        },
        {
          "output_type": "stream",
          "name": "stdout",
          "text": [
            "\n",
            "\n",
            "\n",
            "Training drawings images are: 1108\n",
            "Training engraving images are: 761\n",
            "Training iconography images are: 2087\n",
            "Training painting images are: 2129\n",
            "Training sculpture images are: 1746\n"
          ]
        }
      ]
    },
    {
      "cell_type": "code",
      "source": [
        "#Looking data in validation part\n",
        "nimgs = {}\n",
        "for i in image_folder:\n",
        "    nimages = len(os.listdir('/content/drive/MyDrive/dataset/dataset_updated/validation_set/'+i+'/'))\n",
        "    nimgs[i]=nimages\n",
        "plt.figure(figsize=(18, 6))\n",
        "plt.bar(range(len(nimgs)), list(nimgs.values()), align='center')\n",
        "plt.xticks(range(len(nimgs)), list(nimgs.keys()))\n",
        "plt.title('Distribution of different classes in Validation Dataset')\n",
        "plt.show()\n",
        "print(\"\\n\\n\")\n",
        "#print no of images in each category\n",
        "for i in image_folder:\n",
        "    print('Testing {} images are: '.format(i)+str(len(os.listdir('/content/drive/MyDrive/dataset/dataset_updated/validation_set/'+i+'/'))))"
      ],
      "metadata": {
        "colab": {
          "base_uri": "https://localhost:8080/",
          "height": 468
        },
        "id": "v-iG6yVae54E",
        "outputId": "13720e72-9283-4cb7-8822-e469168c50c5"
      },
      "execution_count": 5,
      "outputs": [
        {
          "output_type": "display_data",
          "data": {
            "text/plain": [
              "<Figure size 1800x600 with 1 Axes>"
            ],
            "image/png": "[encoded data removed]"
          },
          "metadata": {}
        },
        {
          "output_type": "stream",
          "name": "stdout",
          "text": [
            "\n",
            "\n",
            "\n",
            "Testing drawings images are: 122\n",
            "Testing engraving images are: 84\n",
            "Testing iconography images are: 231\n",
            "Testing painting images are: 236\n",
            "Testing sculpture images are: 193\n"
          ]
        }
      ]
    },
    {
      "cell_type": "markdown",
      "source": [
        "Removing dodgy images"
      ],
      "metadata": {
        "id": "9PQBgFgSIB4J"
      }
    },
    {
      "cell_type": "code",
      "source": [
        "import cv2\n",
        "import imghdr"
      ],
      "metadata": {
        "id": "2CuxR3LmIEoK"
      },
      "execution_count": 19,
      "outputs": []
    },
    {
      "cell_type": "code",
      "source": [
        "data_dir = '/content/drive/MyDrive/dataset/OG_dataset/'\n",
        "image_exts = ['jpeg','jpg', 'bmp', 'png']"
      ],
      "metadata": {
        "id": "eHsr1vNTIFly"
      },
      "execution_count": 20,
      "outputs": []
    },
    {
      "cell_type": "code",
      "source": [
        "for image_class in os.listdir(data_dir):\n",
        "    for image in os.listdir(os.path.join(data_dir, image_class)):\n",
        "        image_path = os.path.join(data_dir, image_class, image)\n",
        "        try:\n",
        "            img = cv2.imread(image_path)\n",
        "            tip = imghdr.what(image_path)\n",
        "            if tip not in image_exts:\n",
        "                print('Image not in ext list {}'.format(image_path))\n",
        "                os.remove(image_path)\n",
        "        except Exception as e:\n",
        "            print('Issue with image {}'.format(image_path))\n",
        "            # os.remove(image_path)"
      ],
      "metadata": {
        "id": "iL_TUTMhIH3G"
      },
      "execution_count": null,
      "outputs": []
    },
    {
      "cell_type": "markdown",
      "source": [
        "TRAINING DNN\n"
      ],
      "metadata": {
        "id": "unu0o6nie_uC"
      }
    },
    {
      "cell_type": "code",
      "source": [
        "#import deep learning based modules\n",
        "import tensorflow as tf\n",
        "from tensorflow.keras.optimizers import Adam\n",
        "from tensorflow.keras.preprocessing.image import ImageDataGenerator\n",
        "from tensorflow.keras.layers import Conv2D, MaxPooling2D, Flatten, Dense, Dropout\n",
        "from tensorflow.keras.models import Sequential\n",
        "from tensorflow.keras.callbacks import EarlyStopping, ModelCheckpoint\n",
        "import PIL"
      ],
      "metadata": {
        "id": "eLZbd2mUfDel"
      },
      "execution_count": 34,
      "outputs": []
    },
    {
      "cell_type": "code",
      "source": [
        "#Check if gpu is allocated\n",
        "gpus = tf.config.experimental.list_physical_devices('GPU')\n",
        "len(gpus)"
      ],
      "metadata": {
        "colab": {
          "base_uri": "https://localhost:8080/"
        },
        "id": "4hR0FRR2fGNt",
        "outputId": "9963d325-9e85-4584-c670-9c0e745cd87b"
      },
      "execution_count": 7,
      "outputs": [
        {
          "output_type": "execute_result",
          "data": {
            "text/plain": [
              "1"
            ]
          },
          "metadata": {},
          "execution_count": 7
        }
      ]
    },
    {
      "cell_type": "code",
      "source": [
        "#Limit gpu usage to reasonable level and avoid OOM errors\n",
        "\n",
        "# List available physical GPUs\n",
        "gpus = tf.config.experimental.list_physical_devices('GPU')\n",
        "\n",
        "# Set memory growth for each GPU\n",
        "for gpu in gpus:\n",
        "    tf.config.experimental.set_memory_growth(gpu, True)"
      ],
      "metadata": {
        "id": "R3W-c__UfIdD"
      },
      "execution_count": 8,
      "outputs": []
    },
    {
      "cell_type": "code",
      "source": [
        "#Setting image height and width and batch size\n",
        "img_width=256; img_height=256\n",
        "batch_size=64"
      ],
      "metadata": {
        "id": "P4swhxRkfK9m"
      },
      "execution_count": 9,
      "outputs": []
    },
    {
      "cell_type": "code",
      "source": [
        "#avoiding image loading error by skipping incorrect images\n",
        "def image_generator(train_data_dir, batch_size):\n",
        "    while True:\n",
        "        image_paths = [os.path.join(train_data_dir, filename) for filename in os.listdir(train_data_dir)]\n",
        "        for i in range(0, len(image_paths), batch_size):\n",
        "            batch_images = []\n",
        "            batch_labels = []\n",
        "            for image_path in image_paths[i:i+batch_size]:\n",
        "                try:\n",
        "                    img = Image.open(image_path)\n",
        "                    img = img.resize((150, 150))  # Resize if needed\n",
        "                    img = img.convert('RGB')  # Ensure it's in RGB format\n",
        "                    img = np.array(img)\n",
        "                    batch_images.append(img)\n",
        "                    # Add your label handling code here\n",
        "                    # batch_labels.append(...)\n",
        "                except (PIL.UnidentifiedImageError, OSError):\n",
        "                    print(f\"Skipped {image_path} due to UnidentifiedImageError or OSError\")\n",
        "            if len(batch_images) > 0:\n",
        "                yield np.array(batch_images), np.array(batch_labels)\n"
      ],
      "metadata": {
        "id": "Oyk9_ARVL6Xv"
      },
      "execution_count": 24,
      "outputs": []
    },
    {
      "cell_type": "code",
      "source": [
        "#either run this block or next do not run both\n",
        "TRAINING_DIR = '/content/drive/MyDrive/dataset/dataset_updated/training_set/'\n",
        "\n",
        "train_generator = image_generator(TRAINING_DIR, batch_size)\n"
      ],
      "metadata": {
        "id": "0l2d0jhnMKQG"
      },
      "execution_count": 25,
      "outputs": []
    },
    {
      "cell_type": "code",
      "source": [
        "#set training directory path and create a pipeline as datagen\n",
        "TRAINING_DIR = '/content/drive/MyDrive/dataset/dataset_updated/training_set/'\n",
        "\n",
        "train_datagen = ImageDataGenerator(rescale = 1/255.0,\n",
        "                                   rotation_range=30,\n",
        "                                   zoom_range=0.4,\n",
        "                                   horizontal_flip=True)\n",
        "\n",
        "train_generator = train_datagen.flow_from_directory(TRAINING_DIR,\n",
        "                                                    batch_size=batch_size,\n",
        "                                                    class_mode='categorical',\n",
        "                                                    target_size=(img_height, img_width)\n",
        "                                                    )"
      ],
      "metadata": {
        "colab": {
          "base_uri": "https://localhost:8080/"
        },
        "id": "XuCpm63QfNpZ",
        "outputId": "22b1bed3-9d02-43e4-e8ff-42711ace1fa7"
      },
      "execution_count": 23,
      "outputs": [
        {
          "output_type": "stream",
          "name": "stdout",
          "text": [
            "Found 7826 images belonging to 5 classes.\n"
          ]
        }
      ]
    },
    {
      "cell_type": "code",
      "source": [
        "#avoiding loading image error\n",
        "def validation_image_generator(validation_data_dir, batch_size):\n",
        "    while True:\n",
        "        image_paths = [os.path.join(validation_data_dir, filename) for filename in os.listdir(validation_data_dir)]\n",
        "        for i in range(0, len(image_paths), batch_size):\n",
        "            batch_images = []\n",
        "            batch_labels = []\n",
        "            for image_path in image_paths[i:i+batch_size]:\n",
        "                try:\n",
        "                    img = Image.open(image_path)\n",
        "                    img = img.resize((150, 150))  # Resize if needed\n",
        "                    img = img.convert('RGB')  # Ensure it's in RGB format\n",
        "                    img = np.array(img)\n",
        "                    batch_images.append(img)\n",
        "                    # Add your label handling code here\n",
        "                    # batch_labels.append(...)\n",
        "                except (PIL.UnidentifiedImageError, OSError):\n",
        "                    print(f\"Skipped {image_path} due to UnidentifiedImageError or OSError\")\n",
        "            if len(batch_images) > 0:\n",
        "                yield np.array(batch_images), np.array(batch_labels)\n"
      ],
      "metadata": {
        "id": "9jfCkbdjMfPr"
      },
      "execution_count": 28,
      "outputs": []
    },
    {
      "cell_type": "code",
      "source": [
        "#run this block or next block do not run both\n",
        "VALIDATION_DIR = '/content/drive/MyDrive/dataset/dataset_updated/validation_set/'\n",
        "\n",
        "validation_generator = validation_image_generator(VALIDATION_DIR, batch_size)\n"
      ],
      "metadata": {
        "id": "gz4mt8yTMkZm"
      },
      "execution_count": 29,
      "outputs": []
    },
    {
      "cell_type": "code",
      "source": [
        "#Set validation directory path and pipeline\n",
        "VALIDATION_DIR = '/content/drive/MyDrive/dataset/dataset_updated/validation_set/'\n",
        "\n",
        "validation_datagen = ImageDataGenerator(rescale = 1/255.0)\n",
        "\n",
        "validation_generator = validation_datagen.flow_from_directory(VALIDATION_DIR,\n",
        "                                                              batch_size=batch_size,\n",
        "                                                              class_mode='categorical',\n",
        "                                                              target_size=(img_height, img_width)\n",
        "                                                             )"
      ],
      "metadata": {
        "colab": {
          "base_uri": "https://localhost:8080/"
        },
        "id": "KNDjCKJofPzv",
        "outputId": "df698688-a7b9-42fc-db99-84cb358f37d7"
      },
      "execution_count": 11,
      "outputs": [
        {
          "output_type": "stream",
          "name": "stdout",
          "text": [
            "Found 866 images belonging to 5 classes.\n"
          ]
        }
      ]
    },
    {
      "cell_type": "code",
      "source": [
        "#Preventing overfitting using Earlystopping and saving best model using ModelCheckpoint\n",
        "early_stopping = EarlyStopping(monitor='val_loss', patience=5, verbose=1, mode='auto')\n",
        "# autosave best Model in location :\n",
        "best_model_file = '/content/drive/MyDrive/dataset/dataset_updated/Best_Models/CNN_aug_best_weights.h5'\n",
        "best_model = ModelCheckpoint(best_model_file, monitor='val_acc', verbose = 1, save_best_only = True)"
      ],
      "metadata": {
        "id": "7CC-Bkz4fS_w"
      },
      "execution_count": 30,
      "outputs": []
    },
    {
      "cell_type": "code",
      "source": [
        "#********************Convulation Neural Network Training starts here********************\n",
        "#CNN structure NOTE:last dense layer value must match number of classes,ie=13\n",
        "model = Sequential([\n",
        "    Conv2D(16, (3, 3), activation='relu', input_shape=(img_height, img_width, 3)), MaxPooling2D(2, 2),\n",
        "    Conv2D(32, (3, 3), activation='relu'), MaxPooling2D(2, 2),\n",
        "    Conv2D(64, (3, 3), activation='relu'),\n",
        "    Conv2D(64, (3, 3), activation='relu'),\n",
        "    MaxPooling2D(2, 2),\n",
        "    Conv2D(128, (3, 3), activation='relu'),\n",
        "    Conv2D(128, (3, 3), activation='relu'),\n",
        "    MaxPooling2D(2, 2),\n",
        "    Conv2D(256, (3, 3), activation='relu'),\n",
        "    Conv2D(256, (3, 3), activation='relu'),\n",
        "    Conv2D(256, (3, 3), activation='relu'),\n",
        "    MaxPooling2D(2, 2),\n",
        "    Flatten(),\n",
        "    Dense(512, activation='relu'),\n",
        "    Dense(512, activation='relu'),\n",
        "    Dense(5, activation='softmax')\n",
        "])\n",
        "model.summary()"
      ],
      "metadata": {
        "colab": {
          "base_uri": "https://localhost:8080/"
        },
        "id": "FO9GBYDtfUlQ",
        "outputId": "ec5b5920-806b-4392-b1ac-fc6ffd3fd257"
      },
      "execution_count": 31,
      "outputs": [
        {
          "output_type": "stream",
          "name": "stdout",
          "text": [
            "Model: \"sequential_1\"\n",
            "_________________________________________________________________\n",
            " Layer (type)                Output Shape              Param #   \n",
            "=================================================================\n",
            " conv2d_9 (Conv2D)           (None, 254, 254, 16)      448       \n",
            "                                                                 \n",
            " max_pooling2d_5 (MaxPoolin  (None, 127, 127, 16)      0         \n",
            " g2D)                                                            \n",
            "                                                                 \n",
            " conv2d_10 (Conv2D)          (None, 125, 125, 32)      4640      \n",
            "                                                                 \n",
            " max_pooling2d_6 (MaxPoolin  (None, 62, 62, 32)        0         \n",
            " g2D)                                                            \n",
            "                                                                 \n",
            " conv2d_11 (Conv2D)          (None, 60, 60, 64)        18496     \n",
            "                                                                 \n",
            " conv2d_12 (Conv2D)          (None, 58, 58, 64)        36928     \n",
            "                                                                 \n",
            " max_pooling2d_7 (MaxPoolin  (None, 29, 29, 64)        0         \n",
            " g2D)                                                            \n",
            "                                                                 \n",
            " conv2d_13 (Conv2D)          (None, 27, 27, 128)       73856     \n",
            "                                                                 \n",
            " conv2d_14 (Conv2D)          (None, 25, 25, 128)       147584    \n",
            "                                                                 \n",
            " max_pooling2d_8 (MaxPoolin  (None, 12, 12, 128)       0         \n",
            " g2D)                                                            \n",
            "                                                                 \n",
            " conv2d_15 (Conv2D)          (None, 10, 10, 256)       295168    \n",
            "                                                                 \n",
            " conv2d_16 (Conv2D)          (None, 8, 8, 256)         590080    \n",
            "                                                                 \n",
            " conv2d_17 (Conv2D)          (None, 6, 6, 256)         590080    \n",
            "                                                                 \n",
            " max_pooling2d_9 (MaxPoolin  (None, 3, 3, 256)         0         \n",
            " g2D)                                                            \n",
            "                                                                 \n",
            " flatten_1 (Flatten)         (None, 2304)              0         \n",
            "                                                                 \n",
            " dense_3 (Dense)             (None, 512)               1180160   \n",
            "                                                                 \n",
            " dense_4 (Dense)             (None, 512)               262656    \n",
            "                                                                 \n",
            " dense_5 (Dense)             (None, 5)                 2565      \n",
            "                                                                 \n",
            "=================================================================\n",
            "Total params: 3202661 (12.22 MB)\n",
            "Trainable params: 3202661 (12.22 MB)\n",
            "Non-trainable params: 0 (0.00 Byte)\n",
            "_________________________________________________________________\n"
          ]
        }
      ]
    },
    {
      "cell_type": "code",
      "source": [
        "#Compiling model\n",
        "model.compile(optimizer='Adam',\n",
        "              loss='categorical_crossentropy',\n",
        "              metrics =['accuracy'])"
      ],
      "metadata": {
        "id": "IkLnjtSffWzC"
      },
      "execution_count": 32,
      "outputs": []
    },
    {
      "cell_type": "code",
      "source": [
        "#This part is actually training of model and takes long time consider before running\n",
        "#here we start with moderate epoch of 50 or 100\n",
        "history = model.fit(train_generator,\n",
        "                              epochs=20,\n",
        "                              verbose=1,\n",
        "                              validation_data=validation_generator,\n",
        "                              callbacks = [early_stopping,best_model]\n",
        "                              )\n",
        "model.save('Mini_art_classifier.h5')"
      ],
      "metadata": {
        "colab": {
          "base_uri": "https://localhost:8080/",
          "height": 390
        },
        "id": "3x4AlKtSfYl7",
        "outputId": "bcb7177a-36f4-4adf-c3c1-6f3f3a2163da"
      },
      "execution_count": 35,
      "outputs": [
        {
          "output_type": "error",
          "ename": "StopIteration",
          "evalue": "ignored",
          "traceback": [
            "\u001b[0;31m---------------------------------------------------------------------------\u001b[0m",
            "\u001b[0;31mStopIteration\u001b[0m                             Traceback (most recent call last)",
            "\u001b[0;32m<ipython-input-35-7a431130a78e>\u001b[0m in \u001b[0;36m<cell line: 3>\u001b[0;34m()\u001b[0m\n\u001b[1;32m      1\u001b[0m \u001b[0;31m#This part is actually training of model and takes long time consider before running\u001b[0m\u001b[0;34m\u001b[0m\u001b[0;34m\u001b[0m\u001b[0m\n\u001b[1;32m      2\u001b[0m \u001b[0;31m#here we start with moderate epoch of 50 or 100\u001b[0m\u001b[0;34m\u001b[0m\u001b[0;34m\u001b[0m\u001b[0m\n\u001b[0;32m----> 3\u001b[0;31m history = model.fit(train_generator,\n\u001b[0m\u001b[1;32m      4\u001b[0m                               \u001b[0mepochs\u001b[0m\u001b[0;34m=\u001b[0m\u001b[0;36m20\u001b[0m\u001b[0;34m,\u001b[0m\u001b[0;34m\u001b[0m\u001b[0;34m\u001b[0m\u001b[0m\n\u001b[1;32m      5\u001b[0m                               \u001b[0mverbose\u001b[0m\u001b[0;34m=\u001b[0m\u001b[0;36m1\u001b[0m\u001b[0;34m,\u001b[0m\u001b[0;34m\u001b[0m\u001b[0;34m\u001b[0m\u001b[0m\n",
            "\u001b[0;32m/usr/local/lib/python3.10/dist-packages/keras/src/utils/traceback_utils.py\u001b[0m in \u001b[0;36merror_handler\u001b[0;34m(*args, **kwargs)\u001b[0m\n\u001b[1;32m     68\u001b[0m             \u001b[0;31m# To get the full stack trace, call:\u001b[0m\u001b[0;34m\u001b[0m\u001b[0;34m\u001b[0m\u001b[0m\n\u001b[1;32m     69\u001b[0m             \u001b[0;31m# `tf.debugging.disable_traceback_filtering()`\u001b[0m\u001b[0;34m\u001b[0m\u001b[0;34m\u001b[0m\u001b[0m\n\u001b[0;32m---> 70\u001b[0;31m             \u001b[0;32mraise\u001b[0m \u001b[0me\u001b[0m\u001b[0;34m.\u001b[0m\u001b[0mwith_traceback\u001b[0m\u001b[0;34m(\u001b[0m\u001b[0mfiltered_tb\u001b[0m\u001b[0;34m)\u001b[0m \u001b[0;32mfrom\u001b[0m \u001b[0;32mNone\u001b[0m\u001b[0;34m\u001b[0m\u001b[0;34m\u001b[0m\u001b[0m\n\u001b[0m\u001b[1;32m     71\u001b[0m         \u001b[0;32mfinally\u001b[0m\u001b[0;34m:\u001b[0m\u001b[0;34m\u001b[0m\u001b[0;34m\u001b[0m\u001b[0m\n\u001b[1;32m     72\u001b[0m             \u001b[0;32mdel\u001b[0m \u001b[0mfiltered_tb\u001b[0m\u001b[0;34m\u001b[0m\u001b[0;34m\u001b[0m\u001b[0m\n",
            "\u001b[0;32m/usr/local/lib/python3.10/dist-packages/keras/src/engine/data_adapter.py\u001b[0m in \u001b[0;36m_peek_and_restore\u001b[0;34m(x)\u001b[0m\n\u001b[1;32m    947\u001b[0m     \u001b[0;34m@\u001b[0m\u001b[0mstaticmethod\u001b[0m\u001b[0;34m\u001b[0m\u001b[0;34m\u001b[0m\u001b[0m\n\u001b[1;32m    948\u001b[0m     \u001b[0;32mdef\u001b[0m \u001b[0m_peek_and_restore\u001b[0m\u001b[0;34m(\u001b[0m\u001b[0mx\u001b[0m\u001b[0;34m)\u001b[0m\u001b[0;34m:\u001b[0m\u001b[0;34m\u001b[0m\u001b[0;34m\u001b[0m\u001b[0m\n\u001b[0;32m--> 949\u001b[0;31m         \u001b[0mpeek\u001b[0m \u001b[0;34m=\u001b[0m \u001b[0mnext\u001b[0m\u001b[0;34m(\u001b[0m\u001b[0mx\u001b[0m\u001b[0;34m)\u001b[0m\u001b[0;34m\u001b[0m\u001b[0;34m\u001b[0m\u001b[0m\n\u001b[0m\u001b[1;32m    950\u001b[0m         \u001b[0;32mreturn\u001b[0m \u001b[0mpeek\u001b[0m\u001b[0;34m,\u001b[0m \u001b[0mitertools\u001b[0m\u001b[0;34m.\u001b[0m\u001b[0mchain\u001b[0m\u001b[0;34m(\u001b[0m\u001b[0;34m[\u001b[0m\u001b[0mpeek\u001b[0m\u001b[0;34m]\u001b[0m\u001b[0;34m,\u001b[0m \u001b[0mx\u001b[0m\u001b[0;34m)\u001b[0m\u001b[0;34m\u001b[0m\u001b[0;34m\u001b[0m\u001b[0m\n\u001b[1;32m    951\u001b[0m \u001b[0;34m\u001b[0m\u001b[0m\n",
            "\u001b[0;31mStopIteration\u001b[0m: "
          ]
        }
      ]
    }
  ]
}